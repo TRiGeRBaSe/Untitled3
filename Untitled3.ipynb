{
 "cells": [
  {
   "cell_type": "code",
   "execution_count": 1,
   "id": "85c0cfb8",
   "metadata": {},
   "outputs": [
    {
     "data": {
      "text/html": [
       "<div>\n",
       "<style scoped>\n",
       "    .dataframe tbody tr th:only-of-type {\n",
       "        vertical-align: middle;\n",
       "    }\n",
       "\n",
       "    .dataframe tbody tr th {\n",
       "        vertical-align: top;\n",
       "    }\n",
       "\n",
       "    .dataframe thead th {\n",
       "        text-align: right;\n",
       "    }\n",
       "</style>\n",
       "<table border=\"1\" class=\"dataframe\">\n",
       "  <thead>\n",
       "    <tr style=\"text-align: right;\">\n",
       "      <th></th>\n",
       "      <th>Country</th>\n",
       "      <th>Energy Supply</th>\n",
       "      <th>Energy Supply per Capita</th>\n",
       "      <th>% Renewable</th>\n",
       "    </tr>\n",
       "  </thead>\n",
       "  <tbody>\n",
       "    <tr>\n",
       "      <th>4</th>\n",
       "      <td>American Samoa</td>\n",
       "      <td>NaN</td>\n",
       "      <td>NaN</td>\n",
       "      <td>0.641026</td>\n",
       "    </tr>\n",
       "    <tr>\n",
       "      <th>25</th>\n",
       "      <td>Bolivia</td>\n",
       "      <td>3.360000e+08</td>\n",
       "      <td>32.0</td>\n",
       "      <td>31.477120</td>\n",
       "    </tr>\n",
       "    <tr>\n",
       "      <th>165</th>\n",
       "      <td>South Korea</td>\n",
       "      <td>1.100700e+10</td>\n",
       "      <td>221.0</td>\n",
       "      <td>2.279353</td>\n",
       "    </tr>\n",
       "  </tbody>\n",
       "</table>\n",
       "</div>"
      ],
      "text/plain": [
       "            Country  Energy Supply  Energy Supply per Capita  % Renewable\n",
       "4    American Samoa            NaN                       NaN     0.641026\n",
       "25          Bolivia   3.360000e+08                      32.0    31.477120\n",
       "165     South Korea   1.100700e+10                     221.0     2.279353"
      ]
     },
     "execution_count": 1,
     "metadata": {},
     "output_type": "execute_result"
    }
   ],
   "source": [
    "import pandas as pd\n",
    "import numpy as np\n",
    "\n",
    "energy = pd.read_excel('En_In.xls', skiprows=16, skipfooter=38, usecols=[2, 3, 4, 5])\n",
    "energy.columns = ['Country', 'Energy Supply', 'Energy Supply per Capita', '% Renewable']\n",
    "\n",
    "energy['Energy Supply'] = pd.to_numeric(energy['Energy Supply'], errors='coerce') * 1000000\n",
    "energy['Energy Supply per Capita'] = pd.to_numeric(energy['Energy Supply per Capita'], errors='coerce')\n",
    "energy['% Renewable'] = pd.to_numeric(energy['% Renewable'], errors='coerce')\n",
    "\n",
    "energy['Country'] = energy['Country'].str.replace(r'\\s*\\(.*\\)', '', regex=True)\n",
    "energy['Country'] = energy['Country'].str.replace(r'\\d+', '', regex=True)\n",
    "\n",
    "country_rename = {\n",
    "    \"Republic of Korea\": \"South Korea\",\n",
    "    \"United States of America\": \"United States\",\n",
    "    \"United Kingdom of Great Britain and Northern Ireland\": \"United Kingdom\",\n",
    "    \"China, Hong Kong Special Administrative Region\": \"Hong Kong\"\n",
    "}\n",
    "energy['Country'] = energy['Country'].replace(country_rename)\n",
    "\n",
    "energy.loc[energy['Country'].isin(['American Samoa', 'South Korea', 'Bolivia'])]"
   ]
  },
  {
   "cell_type": "code",
   "execution_count": null,
   "id": "5bd39586",
   "metadata": {},
   "outputs": [],
   "source": []
  },
  {
   "cell_type": "code",
   "execution_count": 2,
   "id": "6963c462",
   "metadata": {},
   "outputs": [
    {
     "data": {
      "text/html": [
       "<div>\n",
       "<style scoped>\n",
       "    .dataframe tbody tr th:only-of-type {\n",
       "        vertical-align: middle;\n",
       "    }\n",
       "\n",
       "    .dataframe tbody tr th {\n",
       "        vertical-align: top;\n",
       "    }\n",
       "\n",
       "    .dataframe thead th {\n",
       "        text-align: right;\n",
       "    }\n",
       "</style>\n",
       "<table border=\"1\" class=\"dataframe\">\n",
       "  <thead>\n",
       "    <tr style=\"text-align: right;\">\n",
       "      <th></th>\n",
       "      <th>Country Name</th>\n",
       "      <th>Country Code</th>\n",
       "      <th>Indicator Name</th>\n",
       "      <th>Indicator Code</th>\n",
       "      <th>1960</th>\n",
       "      <th>1961</th>\n",
       "      <th>1962</th>\n",
       "      <th>1963</th>\n",
       "      <th>1964</th>\n",
       "      <th>1965</th>\n",
       "      <th>...</th>\n",
       "      <th>2006</th>\n",
       "      <th>2007</th>\n",
       "      <th>2008</th>\n",
       "      <th>2009</th>\n",
       "      <th>2010</th>\n",
       "      <th>2011</th>\n",
       "      <th>2012</th>\n",
       "      <th>2013</th>\n",
       "      <th>2014</th>\n",
       "      <th>2015</th>\n",
       "    </tr>\n",
       "  </thead>\n",
       "  <tbody>\n",
       "    <tr>\n",
       "      <th>0</th>\n",
       "      <td>Aruba</td>\n",
       "      <td>ABW</td>\n",
       "      <td>GDP at market prices (constant 2010 US$)</td>\n",
       "      <td>NY.GDP.MKTP.KD</td>\n",
       "      <td>NaN</td>\n",
       "      <td>NaN</td>\n",
       "      <td>NaN</td>\n",
       "      <td>NaN</td>\n",
       "      <td>NaN</td>\n",
       "      <td>NaN</td>\n",
       "      <td>...</td>\n",
       "      <td>NaN</td>\n",
       "      <td>NaN</td>\n",
       "      <td>NaN</td>\n",
       "      <td>NaN</td>\n",
       "      <td>2.467704e+09</td>\n",
       "      <td>NaN</td>\n",
       "      <td>NaN</td>\n",
       "      <td>NaN</td>\n",
       "      <td>NaN</td>\n",
       "      <td>NaN</td>\n",
       "    </tr>\n",
       "  </tbody>\n",
       "</table>\n",
       "<p>1 rows × 60 columns</p>\n",
       "</div>"
      ],
      "text/plain": [
       "  Country Name Country Code                            Indicator Name  \\\n",
       "0        Aruba          ABW  GDP at market prices (constant 2010 US$)   \n",
       "\n",
       "   Indicator Code  1960  1961  1962  1963  1964  1965  ...  2006  2007  2008  \\\n",
       "0  NY.GDP.MKTP.KD   NaN   NaN   NaN   NaN   NaN   NaN  ...   NaN   NaN   NaN   \n",
       "\n",
       "   2009          2010  2011  2012  2013  2014  2015  \n",
       "0   NaN  2.467704e+09   NaN   NaN   NaN   NaN   NaN  \n",
       "\n",
       "[1 rows x 60 columns]"
      ]
     },
     "execution_count": 2,
     "metadata": {},
     "output_type": "execute_result"
    }
   ],
   "source": [
    "gdp = pd.read_csv('gpd.csv', skiprows=4)\n",
    "gdp_country_rename = {\n",
    "    \"Korea, Rep.\": \"South Korea\",\n",
    "    \"Iran, Islamic Rep.\": \"Iran\",\n",
    "    \"Hong Kong SAR, China\": \"Hong Kong\"\n",
    "}\n",
    "gdp['Country Name'] = gdp['Country Name'].replace(gdp_country_rename)\n",
    "gdp_years = gdp[['Country Name', '2006', '2007', '2008', '2009', '2010', \n",
    "                 '2011', '2012', '2013', '2014', '2015']]\n",
    "gdp.head(1)"
   ]
  },
  {
   "cell_type": "code",
   "execution_count": 3,
   "id": "2decb49d",
   "metadata": {},
   "outputs": [
    {
     "data": {
      "text/html": [
       "<div>\n",
       "<style scoped>\n",
       "    .dataframe tbody tr th:only-of-type {\n",
       "        vertical-align: middle;\n",
       "    }\n",
       "\n",
       "    .dataframe tbody tr th {\n",
       "        vertical-align: top;\n",
       "    }\n",
       "\n",
       "    .dataframe thead th {\n",
       "        text-align: right;\n",
       "    }\n",
       "</style>\n",
       "<table border=\"1\" class=\"dataframe\">\n",
       "  <thead>\n",
       "    <tr style=\"text-align: right;\">\n",
       "      <th></th>\n",
       "      <th>Rank</th>\n",
       "      <th>Documents</th>\n",
       "      <th>Citable documents</th>\n",
       "      <th>Citations</th>\n",
       "      <th>Self-citations</th>\n",
       "      <th>Citations per document</th>\n",
       "      <th>H index</th>\n",
       "      <th>Energy Supply</th>\n",
       "      <th>Energy Supply per Capita</th>\n",
       "      <th>% Renewable</th>\n",
       "      <th>2006</th>\n",
       "      <th>2007</th>\n",
       "      <th>2008</th>\n",
       "      <th>2009</th>\n",
       "      <th>2010</th>\n",
       "      <th>2011</th>\n",
       "      <th>2012</th>\n",
       "      <th>2013</th>\n",
       "      <th>2014</th>\n",
       "      <th>2015</th>\n",
       "    </tr>\n",
       "    <tr>\n",
       "      <th>Country</th>\n",
       "      <th></th>\n",
       "      <th></th>\n",
       "      <th></th>\n",
       "      <th></th>\n",
       "      <th></th>\n",
       "      <th></th>\n",
       "      <th></th>\n",
       "      <th></th>\n",
       "      <th></th>\n",
       "      <th></th>\n",
       "      <th></th>\n",
       "      <th></th>\n",
       "      <th></th>\n",
       "      <th></th>\n",
       "      <th></th>\n",
       "      <th></th>\n",
       "      <th></th>\n",
       "      <th></th>\n",
       "      <th></th>\n",
       "      <th></th>\n",
       "    </tr>\n",
       "  </thead>\n",
       "  <tbody>\n",
       "    <tr>\n",
       "      <th>China</th>\n",
       "      <td>1</td>\n",
       "      <td>127050</td>\n",
       "      <td>126767</td>\n",
       "      <td>597237</td>\n",
       "      <td>411683</td>\n",
       "      <td>4.70</td>\n",
       "      <td>138</td>\n",
       "      <td>1.271910e+11</td>\n",
       "      <td>93.0</td>\n",
       "      <td>19.75491</td>\n",
       "      <td>3.992331e+12</td>\n",
       "      <td>4.559041e+12</td>\n",
       "      <td>4.997775e+12</td>\n",
       "      <td>5.459247e+12</td>\n",
       "      <td>6.039659e+12</td>\n",
       "      <td>6.612490e+12</td>\n",
       "      <td>7.124978e+12</td>\n",
       "      <td>7.672448e+12</td>\n",
       "      <td>8.230121e+12</td>\n",
       "      <td>8.797999e+12</td>\n",
       "    </tr>\n",
       "    <tr>\n",
       "      <th>United States</th>\n",
       "      <td>2</td>\n",
       "      <td>96661</td>\n",
       "      <td>94747</td>\n",
       "      <td>792274</td>\n",
       "      <td>265436</td>\n",
       "      <td>8.20</td>\n",
       "      <td>230</td>\n",
       "      <td>9.083800e+10</td>\n",
       "      <td>286.0</td>\n",
       "      <td>11.57098</td>\n",
       "      <td>1.479230e+13</td>\n",
       "      <td>1.505540e+13</td>\n",
       "      <td>1.501149e+13</td>\n",
       "      <td>1.459484e+13</td>\n",
       "      <td>1.496437e+13</td>\n",
       "      <td>1.520402e+13</td>\n",
       "      <td>1.554216e+13</td>\n",
       "      <td>1.577367e+13</td>\n",
       "      <td>1.615662e+13</td>\n",
       "      <td>1.654857e+13</td>\n",
       "    </tr>\n",
       "    <tr>\n",
       "      <th>Japan</th>\n",
       "      <td>3</td>\n",
       "      <td>30504</td>\n",
       "      <td>30287</td>\n",
       "      <td>223024</td>\n",
       "      <td>61554</td>\n",
       "      <td>7.31</td>\n",
       "      <td>134</td>\n",
       "      <td>1.898400e+10</td>\n",
       "      <td>149.0</td>\n",
       "      <td>10.23282</td>\n",
       "      <td>5.496542e+12</td>\n",
       "      <td>5.617036e+12</td>\n",
       "      <td>5.558527e+12</td>\n",
       "      <td>5.251308e+12</td>\n",
       "      <td>5.498718e+12</td>\n",
       "      <td>5.473738e+12</td>\n",
       "      <td>5.569102e+12</td>\n",
       "      <td>5.644659e+12</td>\n",
       "      <td>5.642884e+12</td>\n",
       "      <td>5.669563e+12</td>\n",
       "    </tr>\n",
       "  </tbody>\n",
       "</table>\n",
       "</div>"
      ],
      "text/plain": [
       "               Rank  Documents  Citable documents  Citations  Self-citations  \\\n",
       "Country                                                                        \n",
       "China             1     127050             126767     597237          411683   \n",
       "United States     2      96661              94747     792274          265436   \n",
       "Japan             3      30504              30287     223024           61554   \n",
       "\n",
       "               Citations per document  H index  Energy Supply  \\\n",
       "Country                                                         \n",
       "China                            4.70      138   1.271910e+11   \n",
       "United States                    8.20      230   9.083800e+10   \n",
       "Japan                            7.31      134   1.898400e+10   \n",
       "\n",
       "               Energy Supply per Capita  % Renewable          2006  \\\n",
       "Country                                                              \n",
       "China                              93.0     19.75491  3.992331e+12   \n",
       "United States                     286.0     11.57098  1.479230e+13   \n",
       "Japan                             149.0     10.23282  5.496542e+12   \n",
       "\n",
       "                       2007          2008          2009          2010  \\\n",
       "Country                                                                 \n",
       "China          4.559041e+12  4.997775e+12  5.459247e+12  6.039659e+12   \n",
       "United States  1.505540e+13  1.501149e+13  1.459484e+13  1.496437e+13   \n",
       "Japan          5.617036e+12  5.558527e+12  5.251308e+12  5.498718e+12   \n",
       "\n",
       "                       2011          2012          2013          2014  \\\n",
       "Country                                                                 \n",
       "China          6.612490e+12  7.124978e+12  7.672448e+12  8.230121e+12   \n",
       "United States  1.520402e+13  1.554216e+13  1.577367e+13  1.615662e+13   \n",
       "Japan          5.473738e+12  5.569102e+12  5.644659e+12  5.642884e+12   \n",
       "\n",
       "                       2015  \n",
       "Country                      \n",
       "China          8.797999e+12  \n",
       "United States  1.654857e+13  \n",
       "Japan          5.669563e+12  "
      ]
     },
     "execution_count": 3,
     "metadata": {},
     "output_type": "execute_result"
    }
   ],
   "source": [
    "scimago = pd.read_excel('scimagojr.xlsx')\n",
    "scimago_top15 = scimago.loc[scimago['Rank'] <= 15]\n",
    "\n",
    "# Завдання 7: Об’єднання даних\n",
    "# Перше об’єднання: Scimagojr + Energy\n",
    "merged_df = scimago_top15.merge(energy, how='inner', on='Country')\n",
    "\n",
    "# Друге об’єднання: Додаємо GDP\n",
    "merged_df = merged_df.merge(gdp_years, how='inner', left_on='Country', right_on='Country Name')\n",
    "\n",
    "# Видаляємо зайвий стовпець 'Country Name' і вибираємо потрібні стовпці\n",
    "final_columns = ['Country', 'Rank', 'Documents', 'Citable documents', 'Citations', \n",
    "                 'Self-citations', 'Citations per document', 'H index', 'Energy Supply', \n",
    "                 'Energy Supply per Capita', '% Renewable', '2006', '2007', '2008', \n",
    "                 '2009', '2010', '2011', '2012', '2013', '2014', '2015']\n",
    "merged_df = merged_df[final_columns]\n",
    "\n",
    "# Встановлюємо 'Country' як індекс\n",
    "final_df = merged_df.set_index('Country')\n",
    "\n",
    "final_df.head(3)"
   ]
  },
  {
   "cell_type": "code",
   "execution_count": 4,
   "id": "814a5a0d",
   "metadata": {},
   "outputs": [
    {
     "data": {
      "text/plain": [
       "(15, 20)"
      ]
     },
     "execution_count": 4,
     "metadata": {},
     "output_type": "execute_result"
    }
   ],
   "source": [
    "final_df.shape"
   ]
  },
  {
   "cell_type": "code",
   "execution_count": 5,
   "id": "205910b2",
   "metadata": {},
   "outputs": [],
   "source": [
    "# Завдання 8: Середній ВВП за останні 10 років\n",
    "def average_gdp():\n",
    "    gdp_columns = [str(year) for year in range(2006, 2016)]\n",
    "    avg_gdp = final_df[gdp_columns].mean(axis=1)\n",
    "    return avg_gdp.sort_values(ascending=False)"
   ]
  },
  {
   "cell_type": "code",
   "execution_count": 6,
   "id": "f79992fe",
   "metadata": {},
   "outputs": [
    {
     "data": {
      "text/plain": [
       "Country\n",
       "United States         1.536434e+13\n",
       "China                 6.348609e+12\n",
       "Japan                 5.542208e+12\n",
       "Germany               3.493025e+12\n",
       "France                2.681725e+12\n",
       "United Kingdom        2.487907e+12\n",
       "Brazil                2.189794e+12\n",
       "Italy                 2.120175e+12\n",
       "India                 1.769297e+12\n",
       "Canada                1.660647e+12\n",
       "Russian Federation    1.565459e+12\n",
       "Spain                 1.418078e+12\n",
       "Australia             1.164043e+12\n",
       "South Korea           1.106715e+12\n",
       "Iran                  4.441558e+11\n",
       "dtype: float64"
      ]
     },
     "execution_count": 6,
     "metadata": {},
     "output_type": "execute_result"
    }
   ],
   "source": [
    "average_gdp()"
   ]
  },
  {
   "cell_type": "code",
   "execution_count": 7,
   "id": "71be7e88",
   "metadata": {},
   "outputs": [],
   "source": [
    "# Завдання 9: Зміна ВВП для країни з 5-м середнім ВВП\n",
    "def gdp_change_for_fifth():\n",
    "    avg_gdp = average_gdp()\n",
    "    fifth_country = avg_gdp.index[4]  # 5-та країна (індекс 4)\n",
    "    gdp_2006 = final_df.loc[fifth_country, '2006']\n",
    "    gdp_2015 = final_df.loc[fifth_country, '2015']\n",
    "    gdp_change = gdp_2015 - gdp_2006\n",
    "    return (fifth_country, gdp_change)"
   ]
  },
  {
   "cell_type": "code",
   "execution_count": 8,
   "id": "40633331",
   "metadata": {},
   "outputs": [
    {
     "data": {
      "text/plain": [
       "('France', 153345695364.24023)"
      ]
     },
     "execution_count": 8,
     "metadata": {},
     "output_type": "execute_result"
    }
   ],
   "source": [
    "gdp_change_for_fifth()"
   ]
  },
  {
   "cell_type": "code",
   "execution_count": 9,
   "id": "8b58ea5d",
   "metadata": {},
   "outputs": [],
   "source": [
    "# Завдання 10: Максимум поновлюваних джерел енергії\n",
    "def max_renewable():\n",
    "    max_renewable_idx = final_df['% Renewable'].idxmax()\n",
    "    max_renewable_value = final_df.loc[max_renewable_idx, '% Renewable']\n",
    "    return (max_renewable_idx, max_renewable_value)"
   ]
  },
  {
   "cell_type": "code",
   "execution_count": 10,
   "id": "8914a982",
   "metadata": {},
   "outputs": [
    {
     "data": {
      "text/plain": [
       "('Brazil', 69.64803)"
      ]
     },
     "execution_count": 10,
     "metadata": {},
     "output_type": "execute_result"
    }
   ],
   "source": [
    "max_renewable()"
   ]
  },
  {
   "cell_type": "code",
   "execution_count": 11,
   "id": "ef2c7baa",
   "metadata": {},
   "outputs": [],
   "source": [
    "# Завдання 11: Оцінка чисельності населення, 6-та країна\n",
    "def sixth_population():\n",
    "    final_df['Population'] = final_df['Energy Supply'] / final_df['Energy Supply per Capita']\n",
    "    sorted_pop = final_df['Population'].sort_values(ascending=False)\n",
    "    sixth_country = sorted_pop.index[5]  # 6-та країна (індекс 5)\n",
    "    sixth_pop_value = sorted_pop.iloc[5]\n",
    "    return (sixth_country, sixth_pop_value)"
   ]
  },
  {
   "cell_type": "code",
   "execution_count": 12,
   "id": "87938908",
   "metadata": {},
   "outputs": [
    {
     "data": {
      "text/plain": [
       "('Japan', 127409395.97315437)"
      ]
     },
     "execution_count": 12,
     "metadata": {},
     "output_type": "execute_result"
    }
   ],
   "source": [
    "sixth_population()"
   ]
  },
  {
   "cell_type": "code",
   "execution_count": 13,
   "id": "882a0acd",
   "metadata": {},
   "outputs": [],
   "source": [
    "# Завдання 12: Кількість цитованих документів на душу населення та кореляція\n",
    "def citation_per_capita_correlation():\n",
    "    final_df['Population'] = final_df['Energy Supply'] / final_df['Energy Supply per Capita']\n",
    "    final_df['Citations per Capita'] = final_df['Citable documents'] / final_df['Population']\n",
    "    correlation = final_df['Citations per Capita'].corr(final_df['Energy Supply per Capita'])\n",
    "    return correlation"
   ]
  },
  {
   "cell_type": "code",
   "execution_count": 14,
   "id": "2f6b10ec",
   "metadata": {},
   "outputs": [
    {
     "data": {
      "text/plain": [
       "0.7940010435442946"
      ]
     },
     "execution_count": 14,
     "metadata": {},
     "output_type": "execute_result"
    }
   ],
   "source": [
    "citation_per_capita_correlation()"
   ]
  },
  {
   "cell_type": "code",
   "execution_count": 15,
   "id": "62c5a043",
   "metadata": {},
   "outputs": [],
   "source": [
    "# Завдання 13: Бінарний стовпець для % Renewable відносно медіани\n",
    "def renewable_above_median():\n",
    "    median_renewable = final_df['% Renewable'].median()\n",
    "    final_df['Renewable Binary'] = (final_df['% Renewable'] >= median_renewable).astype(int)\n",
    "    return final_df['Renewable Binary'].sort_index()"
   ]
  },
  {
   "cell_type": "code",
   "execution_count": 16,
   "id": "bd34e6f7",
   "metadata": {},
   "outputs": [
    {
     "data": {
      "text/plain": [
       "Country\n",
       "Australia             0\n",
       "Brazil                1\n",
       "Canada                1\n",
       "China                 1\n",
       "France                1\n",
       "Germany               1\n",
       "India                 0\n",
       "Iran                  0\n",
       "Italy                 1\n",
       "Japan                 0\n",
       "Russian Federation    1\n",
       "South Korea           0\n",
       "Spain                 1\n",
       "United Kingdom        0\n",
       "United States         0\n",
       "Name: Renewable Binary, dtype: int32"
      ]
     },
     "execution_count": 16,
     "metadata": {},
     "output_type": "execute_result"
    }
   ],
   "source": [
    "renewable_above_median()"
   ]
  },
  {
   "cell_type": "code",
   "execution_count": 17,
   "id": "e17359ec",
   "metadata": {},
   "outputs": [],
   "source": [
    "# Завдання 14: Групування за континентами\n",
    "ContinentDict = {\n",
    "    'China': 'Asia',\n",
    "    'United States': 'North America',\n",
    "    'Japan': 'Asia',\n",
    "    'United Kingdom': 'Europe',\n",
    "    'Russian Federation': 'Europe',\n",
    "    'Canada': 'North America',\n",
    "    'Germany': 'Europe',\n",
    "    'India': 'Asia',\n",
    "    'France': 'Europe',\n",
    "    'South Korea': 'Asia',\n",
    "    'Italy': 'Europe',\n",
    "    'Spain': 'Europe',\n",
    "    'Iran': 'Asia',\n",
    "    'Australia': 'Australia',\n",
    "    'Brazil': 'South America'\n",
    "}\n",
    "\n",
    "def continent_population_stats():\n",
    "    final_df['Population'] = final_df['Energy Supply'] / final_df['Energy Supply per Capita']\n",
    "    final_df['Continent'] = final_df.index.map(ContinentDict)\n",
    "    continent_stats = final_df.groupby('Continent')['Population'].agg(['size', 'sum', 'mean', 'std'])\n",
    "    continent_stats.columns = ['size', 'sum', 'mean', 'std']\n",
    "    continent_stats.index.name = 'Continent'\n",
    "    return continent_stats.loc[['Asia', 'Australia', 'Europe', 'North America', 'South America']]"
   ]
  },
  {
   "cell_type": "code",
   "execution_count": 18,
   "id": "9597fdfd",
   "metadata": {},
   "outputs": [
    {
     "data": {
      "text/html": [
       "<div>\n",
       "<style scoped>\n",
       "    .dataframe tbody tr th:only-of-type {\n",
       "        vertical-align: middle;\n",
       "    }\n",
       "\n",
       "    .dataframe tbody tr th {\n",
       "        vertical-align: top;\n",
       "    }\n",
       "\n",
       "    .dataframe thead th {\n",
       "        text-align: right;\n",
       "    }\n",
       "</style>\n",
       "<table border=\"1\" class=\"dataframe\">\n",
       "  <thead>\n",
       "    <tr style=\"text-align: right;\">\n",
       "      <th></th>\n",
       "      <th>size</th>\n",
       "      <th>sum</th>\n",
       "      <th>mean</th>\n",
       "      <th>std</th>\n",
       "    </tr>\n",
       "    <tr>\n",
       "      <th>Continent</th>\n",
       "      <th></th>\n",
       "      <th></th>\n",
       "      <th></th>\n",
       "      <th></th>\n",
       "    </tr>\n",
       "  </thead>\n",
       "  <tbody>\n",
       "    <tr>\n",
       "      <th>Asia</th>\n",
       "      <td>5</td>\n",
       "      <td>2.898666e+09</td>\n",
       "      <td>5.797333e+08</td>\n",
       "      <td>6.790979e+08</td>\n",
       "    </tr>\n",
       "    <tr>\n",
       "      <th>Australia</th>\n",
       "      <td>1</td>\n",
       "      <td>2.331602e+07</td>\n",
       "      <td>2.331602e+07</td>\n",
       "      <td>NaN</td>\n",
       "    </tr>\n",
       "    <tr>\n",
       "      <th>Europe</th>\n",
       "      <td>6</td>\n",
       "      <td>4.579297e+08</td>\n",
       "      <td>7.632161e+07</td>\n",
       "      <td>3.464767e+07</td>\n",
       "    </tr>\n",
       "    <tr>\n",
       "      <th>North America</th>\n",
       "      <td>2</td>\n",
       "      <td>3.528552e+08</td>\n",
       "      <td>1.764276e+08</td>\n",
       "      <td>1.996696e+08</td>\n",
       "    </tr>\n",
       "    <tr>\n",
       "      <th>South America</th>\n",
       "      <td>1</td>\n",
       "      <td>2.059153e+08</td>\n",
       "      <td>2.059153e+08</td>\n",
       "      <td>NaN</td>\n",
       "    </tr>\n",
       "  </tbody>\n",
       "</table>\n",
       "</div>"
      ],
      "text/plain": [
       "               size           sum          mean           std\n",
       "Continent                                                    \n",
       "Asia              5  2.898666e+09  5.797333e+08  6.790979e+08\n",
       "Australia         1  2.331602e+07  2.331602e+07           NaN\n",
       "Europe            6  4.579297e+08  7.632161e+07  3.464767e+07\n",
       "North America     2  3.528552e+08  1.764276e+08  1.996696e+08\n",
       "South America     1  2.059153e+08  2.059153e+08           NaN"
      ]
     },
     "execution_count": 18,
     "metadata": {},
     "output_type": "execute_result"
    }
   ],
   "source": [
    "continent_population_stats()"
   ]
  },
  {
   "cell_type": "code",
   "execution_count": 19,
   "id": "3a661ad3",
   "metadata": {},
   "outputs": [
    {
     "data": {
      "image/png": "[encoded data removed]",
      "text/plain": [
       "<Figure size 2000x700 with 1 Axes>"
      ]
     },
     "metadata": {},
     "output_type": "display_data"
    }
   ],
   "source": [
    "import matplotlib.pyplot as plt\n",
    "\n",
    "# Завдання 15: Створення бульбашкової діаграми\n",
    "final_df['Continent'] = final_df.index.map(ContinentDict)\n",
    "x = final_df['Rank']\n",
    "y = final_df['% Renewable']\n",
    "sizes = final_df['2015'] / 1e9\n",
    "colors = final_df['Continent']\n",
    "continent_colors = {\n",
    "    'Asia': 'red',\n",
    "    'Australia': 'yellow',\n",
    "    'Europe': 'green',\n",
    "    'North America': 'blue',\n",
    "    'South America': 'orange'\n",
    "}\n",
    "\n",
    "plt.figure(figsize=(20, 7))\n",
    "scatter = plt.scatter(x, y, s=sizes, c=colors.map(continent_colors), \n",
    "                     alpha=0.6, edgecolors=\"black\", linewidth=1)\n",
    "\n",
    "for country in final_df.index:\n",
    "    plt.annotate(country, (final_df.loc[country, 'Rank'], final_df.loc[country, '% Renewable']),\n",
    "                 xytext=(0, 0), textcoords='offset points', fontsize=12, ha='center')\n",
    "\n",
    "plt.title('Bubble chart', fontsize=17, pad=15)\n",
    "plt.xlabel('Rank', fontsize=15)\n",
    "plt.ylabel('% Renewable', fontsize=15)\n",
    "\n",
    "legend_elements = [plt.Line2D([0], [0], marker='o', color='w', label=cont, \n",
    "                             markerfacecolor=color, markersize=10) \n",
    "                  for cont, color in continent_colors.items()]\n",
    "plt.legend(handles=legend_elements, title='Continent', loc='upper right', bbox_to_anchor=(1.15, 1))\n",
    "\n",
    "plt.gca().spines['top'].set_visible(False)\n",
    "plt.gca().spines['right'].set_visible(False)\n",
    "plt.gca().spines['left'].set_visible(False)\n",
    "plt.gca().spines['bottom'].set_visible(False)\n",
    "\n",
    "plt.grid(True, linestyle='--', alpha=0.3)\n",
    "plt.show()"
   ]
  },
  {
   "cell_type": "code",
   "execution_count": null,
   "id": "da0c853e",
   "metadata": {},
   "outputs": [],
   "source": []
  }
 ],
 "metadata": {
  "kernelspec": {
   "display_name": "Python 3 (ipykernel)",
   "language": "python",
   "name": "python3"
  },
  "language_info": {
   "codemirror_mode": {
    "name": "ipython",
    "version": 3
   },
   "file_extension": ".py",
   "mimetype": "text/x-python",
   "name": "python",
   "nbconvert_exporter": "python",
   "pygments_lexer": "ipython3",
   "version": "3.7.1"
  }
 },
 "nbformat": 4,
 "nbformat_minor": 5
}
